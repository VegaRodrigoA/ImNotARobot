{
 "cells": [
  {
   "cell_type": "code",
   "execution_count": 1,
   "id": "6fe75378-1b31-4b15-9cb2-c1ee867ad555",
   "metadata": {},
   "outputs": [],
   "source": [
    "from selenium import webdriver\n",
    "from selenium.webdriver.common.keys import Keys\n",
    "from webdriver_manager.chrome import ChromeDriverManager\n",
    "from selenium.webdriver.common.by import By\n",
    "from selenium.webdriver.chrome.options import Options\n",
    "from selenium.webdriver.chrome.service import Service\n",
    "\n",
    "import os, sys\n",
    "import time,requests\n",
    "\n",
    "import speech_recognition as sr\n",
    "from pydub import AudioSegment\n",
    "#pydub also requires ffmpeg\n",
    "#pydub and ffmpeg have to be installed using conda\n",
    "#conda install -c conda-forge pydub\n",
    "#conda install ffmpeg\n",
    "\n",
    "\n",
    "delayTime = 2\n",
    "#audioToTextDelay = 10\n",
    "filename = '1.mp3'\n",
    "byPassUrl = 'https://www.google.com/recaptcha/api2/demo'#url test\n",
    "googleIBMLink = 'https://speech-to-text-demo.ng.bluemix.net/'#IBM's watson text recognition\n",
    "\n",
    "option = Options()\n",
    "option.add_argument('--disable-notifications')#Disallow pop ups \n",
    "option.add_argument(\"--mute-audio\")#we are replacing the image control with the audio control\n",
    "#To avoid hearing the speech, we mute the browser"
   ]
  },
  {
   "cell_type": "code",
   "execution_count": 2,
   "id": "3ad548e5-c2e0-4703-afb3-0bce6b19a422",
   "metadata": {},
   "outputs": [],
   "source": [
    "def audioToText(mp3Path):\n",
    "    # convert mp3 file to wav  \n",
    "    src=(r\"1.mp3\")\n",
    "    sound = AudioSegment.from_mp3(src)\n",
    "    sound.export(\"22.wav\", format=\"wav\")\n",
    "\n",
    "    file_audio = sr.AudioFile(r\"22.wav\")\n",
    "\n",
    "    # use the audio file as the audio source                                        \n",
    "    r = sr.Recognizer()\n",
    "    with file_audio as source:\n",
    "        audio_text = r.record(source)\n",
    "\n",
    "    return r.recognize_google(audio_text)\n",
    "    \n",
    "def saveFile(content,filename):\n",
    "    with open(filename, \"wb\") as handle:\n",
    "        for data in content.iter_content():\n",
    "            handle.write(data)"
   ]
  },
  {
   "cell_type": "code",
   "execution_count": 3,
   "id": "44cc7365-5759-46fb-b03c-fdc386f28975",
   "metadata": {},
   "outputs": [],
   "source": [
    "def notRobotCheck(driver):\n",
    "    try:\n",
    "        #Find \"I'm not a robot\" captcha-box\n",
    "        googleClass = driver.find_elements(By.CLASS_NAME,\"g-recaptcha\")[0]\n",
    "        time.sleep(2)\n",
    "\n",
    "        #In the box, we look for the iframe containing the check-box\n",
    "        outeriframe = googleClass.find_elements(By.TAG_NAME,'iframe')[0]\n",
    "        time.sleep(1)\n",
    "        outeriframe.click()#Click in the checkbox\n",
    "        time.sleep(2)\n",
    "        return True\n",
    "    except Exception as e:\n",
    "        print(e)\n",
    "        return False"
   ]
  },
  {
   "cell_type": "code",
   "execution_count": 4,
   "id": "5c787a38-39bf-4120-9818-1645eafb96d9",
   "metadata": {},
   "outputs": [],
   "source": [
    "def findAudioButton(driver):\n",
    "    allIframesLen = driver.find_elements(By.TAG_NAME,'iframe')#We get all the iframes\n",
    "    time.sleep(1)\n",
    "    audioBtnFound = False\n",
    "    audioBtnIndex = -1\n",
    "    \n",
    "    for index in range(len(allIframesLen)):#and, in each of them, look for the the audio button\n",
    "        driver.switch_to.default_content()\n",
    "        iframe = driver.find_elements(By.TAG_NAME,'iframe')[index]\n",
    "\n",
    "        driver.switch_to.frame(iframe)\n",
    "        driver.implicitly_wait(delayTime)\n",
    "        try:\n",
    "            audioBtn = driver.find_element(By.ID,'recaptcha-audio-button') or driver.find_element(By.ID,'recaptcha-anchor')\n",
    "\n",
    "            audioBtn.click()#Click the button\n",
    "            audioBtnFound = True\n",
    "            audioBtnIndex = index\n",
    "            break\n",
    "        except Exception as e:\n",
    "            #print(e)\n",
    "            pass\n",
    "    \n",
    "    return audioBtnFound"
   ]
  },
  {
   "cell_type": "code",
   "execution_count": 5,
   "id": "841782cf-924a-41e2-9c95-db6848d22bcc",
   "metadata": {},
   "outputs": [
    {
     "name": "stderr",
     "output_type": "stream",
     "text": [
      "[WDM] - Downloading: 100%|██████████████████| 6.98M/6.98M [00:20<00:00, 355kB/s]\n"
     ]
    }
   ],
   "source": [
    "#Open browser\n",
    "driver = webdriver.Chrome(service=Service(ChromeDriverManager().install()),options=option)\n",
    "driver.get(byPassUrl)\n",
    "time.sleep(1)"
   ]
  },
  {
   "cell_type": "code",
   "execution_count": 6,
   "id": "9fb8cbf5-3561-4cbc-985a-f4640c1d5590",
   "metadata": {},
   "outputs": [],
   "source": [
    "if not notRobotCheck(driver):\n",
    "    driver.get(byPassUrl)\n",
    "    notRobotCheck(driver)\n",
    "time.sleep(2)"
   ]
  },
  {
   "cell_type": "code",
   "execution_count": 7,
   "id": "0386af2d-20f8-4781-8bfc-42298c89c413",
   "metadata": {},
   "outputs": [
    {
     "name": "stdout",
     "output_type": "stream",
     "text": [
      "Todos los iframe 3\n",
      "metal ball bearing\n",
      "Success\n"
     ]
    }
   ],
   "source": [
    "if findAudioButton(driver):\n",
    "    try:\n",
    "        while True:\n",
    "            href = driver.find_element(By.ID,'audio-source').get_attribute('src')#Catch the streamed audio\n",
    "            response = requests.get(href, stream=True)#Download the sound\n",
    "            saveFile(response,filename)\n",
    "            response = audioToText(os.getcwd() + '/' + filename)#Transcript the sound\n",
    "            print(response)\n",
    "            \n",
    "            \n",
    "            inputbtn = driver.find_element(By.ID,'audio-response')#Find the text to enter the response  \n",
    "            inputbtn.send_keys(response)#We write the response\n",
    "            inputbtn.send_keys(Keys.ENTER)#Press enter\n",
    "\n",
    "            time.sleep(2)\n",
    "            errorMsg = driver.find_elements(By.CLASS_NAME,'rc-audiochallenge-error-message')[0]\n",
    "\n",
    "            if errorMsg.text == \"\" or errorMsg.value_of_css_property('display') == 'none':\n",
    "                print(\"Success\")\n",
    "                break\n",
    "    except Exception as e:\n",
    "        print(e)\n",
    "        print('Caught. Need to change proxy now')\n",
    "else:\n",
    "    print('Button not found. This should not happen.')"
   ]
  },
  {
   "cell_type": "code",
   "execution_count": 8,
   "id": "6bcfc0c6-8c63-4901-8d7f-db3c7f7c46f8",
   "metadata": {},
   "outputs": [],
   "source": [
    "#driver.close()"
   ]
  },
  {
   "cell_type": "code",
   "execution_count": null,
   "id": "9cf4490f-1b58-41ef-95ae-8d60f2af96e5",
   "metadata": {},
   "outputs": [],
   "source": []
  }
 ],
 "metadata": {
  "kernelspec": {
   "display_name": "Python 3 (ipykernel)",
   "language": "python",
   "name": "python3"
  },
  "language_info": {
   "codemirror_mode": {
    "name": "ipython",
    "version": 3
   },
   "file_extension": ".py",
   "mimetype": "text/x-python",
   "name": "python",
   "nbconvert_exporter": "python",
   "pygments_lexer": "ipython3",
   "version": "3.10.4"
  }
 },
 "nbformat": 4,
 "nbformat_minor": 5
}
